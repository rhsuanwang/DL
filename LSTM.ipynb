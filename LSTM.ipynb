{
  "nbformat": 4,
  "nbformat_minor": 0,
  "metadata": {
    "colab": {
      "name": "LSTM.ipynb",
      "provenance": [],
      "collapsed_sections": []
    },
    "kernelspec": {
      "name": "python3",
      "display_name": "Python 3"
    },
    "language_info": {
      "name": "python"
    },
    "accelerator": "GPU"
  },
  "cells": [
    {
      "cell_type": "markdown",
      "source": [
        "Final Project：LSTM"
      ],
      "metadata": {
        "id": "zy08ZMQuVbB1"
      }
    },
    {
      "cell_type": "code",
      "execution_count": 30,
      "metadata": {
        "colab": {
          "base_uri": "https://localhost:8080/"
        },
        "id": "vpafY_TlUqnJ",
        "outputId": "5e544ea8-36fd-46ba-ce82-af9bc2ddf1e5"
      },
      "outputs": [
        {
          "output_type": "stream",
          "name": "stdout",
          "text": [
            "Drive already mounted at /content/drive; to attempt to forcibly remount, call drive.mount(\"/content/drive\", force_remount=True).\n",
            "MyDrive  Shareddrives\n",
            "/content/drive/My Drive\n",
            "/content/drive/My Drive/1101/DL/Final\n",
            " \u001b[0m\u001b[01;34m0111LSTM_epochs_10_batch_128_Adam_lr_0.003\u001b[0m/          Untitled1.ipynb\n",
            " \u001b[01;34m0111LSTM_epochs_50_batch_128_Adam_lr_0.003\u001b[0m/          Untitled2.ipynb\n",
            " \u001b[01;34m0111LSTM_epochs_5_batch_128_Adam_lr_0.003\u001b[0m/           \u001b[01;34mv10\u001b[0m/\n",
            " \u001b[01;34m0115LSTM_epochs_50_batch_128_Adam_lr_0.003\u001b[0m/          \u001b[01;34mv3\u001b[0m/\n",
            " \u001b[01;34m0116LSTM_epochs_50_batch_64_Adam_lr_0.003\u001b[0m/           \u001b[01;34mv4\u001b[0m/\n",
            " \u001b[01;34m0120LSTM_epochs_10_batch_128_Adam_lr_0.003\u001b[0m/          \u001b[01;34mv5\u001b[0m/\n",
            " \u001b[01;34m0120LSTM_epochs_50_batch_128_Adam_lr_0.003\u001b[0m/          \u001b[01;34mv6\u001b[0m/\n",
            " \u001b[01;34m0121LSTM1v3_epochs_10_batch_128_Adam_lr_0.003\u001b[0m/       \u001b[01;34mv7\u001b[0m/\n",
            " \u001b[01;34md51_0120LSTM1v4_epochs_10_batch_128_Adam_lr_0.003\u001b[0m/   \u001b[01;34mv8\u001b[0m/\n",
            " \u001b[01;34md51_0120LSTM3v3_epochs_10_batch_128_Adam_lr_0.003\u001b[0m/   x_test1.csv\n",
            " \u001b[01;34md51_0120LSTM3v3_epochs_30_batch_128_Adam_lr_0.003\u001b[0m/   x_test.csv\n",
            "'lstm (1).ipynb'                                      x_train1.csv\n",
            " LSTM.ipynb                                           x_train.csv\n",
            " \u001b[01;34mnd_0120LSTM3v3_epochs_30_batch_128_Adam_lr_0.003\u001b[0m/    y_test1.csv\n",
            " \u001b[01;34mnd_0120LSTM_epochs_10_batch_128_Adam_lr_0.003\u001b[0m/       y_test.csv\n",
            " \u001b[01;34mresult\u001b[0m/                                              y_train1.csv\n",
            " Untitled0.ipynb                                      y_train.csv\n"
          ]
        }
      ],
      "source": [
        "# 連接至Colab，可能需要協助更改路徑\n",
        "from google.colab import drive\n",
        "drive.mount('/content/drive')\n",
        "\n",
        "!ls /content/drive/\n",
        "%cd \"/content/drive/My Drive\" \n",
        "%cd \"1101/DL/Final\"\n",
        "\n",
        "%ls"
      ]
    },
    {
      "cell_type": "markdown",
      "source": [
        ""
      ],
      "metadata": {
        "id": "0gmzlFqhVcN2"
      }
    },
    {
      "cell_type": "code",
      "source": [
        "!nvidia-smi\n",
        "from google.colab import drive\n",
        "import requests\n",
        "import numpy as np\n",
        "import pandas as pd\n",
        "import matplotlib.pyplot as plt\n",
        "from keras.callbacks import ReduceLROnPlateau\n",
        "from keras import backend as K\n",
        "from keras.models import Sequential\n",
        "from keras.layers import LSTM\n",
        "from keras.layers import Bidirectional\n",
        "from keras.layers import Dense, Dropout\n",
        "from tensorflow.keras.optimizers import Adam\n",
        "from tensorflow.keras.optimizers import SGD\n",
        "from keras.models import load_model\n",
        "from keras.callbacks import EarlyStopping, ModelCheckpoint\n",
        "\n",
        "import argparse\n",
        "import time\n",
        "import os"
      ],
      "metadata": {
        "colab": {
          "base_uri": "https://localhost:8080/"
        },
        "id": "Wv3L6MYNVXZX",
        "outputId": "de4a8a53-8f5c-46e4-93cb-32ff9a8821b1"
      },
      "execution_count": 31,
      "outputs": [
        {
          "output_type": "stream",
          "name": "stdout",
          "text": [
            "Fri Jan 21 07:23:59 2022       \n",
            "+-----------------------------------------------------------------------------+\n",
            "| NVIDIA-SMI 495.46       Driver Version: 460.32.03    CUDA Version: 11.2     |\n",
            "|-------------------------------+----------------------+----------------------+\n",
            "| GPU  Name        Persistence-M| Bus-Id        Disp.A | Volatile Uncorr. ECC |\n",
            "| Fan  Temp  Perf  Pwr:Usage/Cap|         Memory-Usage | GPU-Util  Compute M. |\n",
            "|                               |                      |               MIG M. |\n",
            "|===============================+======================+======================|\n",
            "|   0  Tesla K80           Off  | 00000000:00:04.0 Off |                    0 |\n",
            "| N/A   72C    P0    74W / 149W |   4418MiB / 11441MiB |      0%      Default |\n",
            "|                               |                      |                  N/A |\n",
            "+-------------------------------+----------------------+----------------------+\n",
            "                                                                               \n",
            "+-----------------------------------------------------------------------------+\n",
            "| Processes:                                                                  |\n",
            "|  GPU   GI   CI        PID   Type   Process name                  GPU Memory |\n",
            "|        ID   ID                                                   Usage      |\n",
            "|=============================================================================|\n",
            "|  No running processes found                                                 |\n",
            "+-----------------------------------------------------------------------------+\n"
          ]
        }
      ]
    },
    {
      "cell_type": "code",
      "source": [
        "# 匯出成csv\n",
        "def output(filepath, data):\n",
        "    df_SAMPLE = pd.DataFrame.from_dict(data)\n",
        "    df_SAMPLE.to_csv(filepath, index=False)\n",
        "    print('Success output to ' + filepath)\n",
        "\n",
        "# RMSE 評估值\n",
        "def RMSE(y_pred, y_true):\n",
        "    return K.sqrt(K.mean(K.square(y_pred - y_true)))"
      ],
      "metadata": {
        "id": "kjqZE_CjVpWV"
      },
      "execution_count": 32,
      "outputs": []
    },
    {
      "cell_type": "markdown",
      "source": [
        "Argparse: 可更改參數及DIR路徑名稱"
      ],
      "metadata": {
        "id": "iubTe46wWBjX"
      }
    },
    {
      "cell_type": "code",
      "source": [
        "# argparse\n",
        "parser = argparse.ArgumentParser(description='Final Project')\n",
        "parser.add_argument('--epochs', default='100', type=int, metavar='N',\n",
        "                    help='number of total epochs to run')\n",
        "parser.add_argument('-b', '--batch-size', default='32', type=int,\n",
        "                    metavar='N',\n",
        "                    help='mini-batch size (default: 32), this is the total '\n",
        "                         'batch size of all GPUs on the current node when '\n",
        "                         'using Data Parallel or Distributed Data Parallel')\n",
        "parser.add_argument('--opt', type=str, default='SGD',\n",
        "                        help='SGD or Adam (default: SGD)')\n",
        "parser.add_argument('--lr', '--learning-rate', default='0.1', type=float,\n",
        "                    metavar='LR', help='initial learning rate', dest='lr')\n",
        "parser.add_argument('--resume', default='', type=str, metavar='PATH',\n",
        "                    help='path to latest checkpoint (default: none)')\n",
        "parser.add_argument('--save', default='', type=str, metavar='PATH',\n",
        "                    help='path to latest dir (default: none)')\n",
        "parser.add_argument('--p', '--predict', dest='predict', action='store_true',\n",
        "                    help='evaluate model on test set')\n",
        "\n",
        "# today = dt.now()\n",
        "\n",
        "# SGD Setting\n",
        "# args = parser.parse_args(args=['--epochs', '50', '--batch-size', '64', '--opt', 'SGD', '--lr', '0.001', '--resume', './workspace/my_model.h5', '--save', '.'])\n",
        "# predict\n",
        "# args = parser.parse_args(args=['--epochs', '50', '--batch-size', '64', '--opt', 'SGD', '--lr', '0.001', '--resume', './workspace/my_model.h5', '--save', '.','--p'])\n",
        "# Adam Setting\n",
        "args = parser.parse_args(args=['--epochs', '10', '--batch-size', '128', '--opt', 'Adam', '--lr', '0.003', '--resume', './workspace/my_model.h5', '--save', '.'])\n",
        "# predict\n",
        "# args = parser.parse_args(args=['--epochs', '30', '--batch-size', '64', '--opt', 'Adam', '--lr', '0.0001', '--resume', './workspace/my_model.h5', '--save', '.','--p'])\n",
        "DIR =  './0121LSTM1v3_epochs_' + str(args.epochs) + '_batch_' + str(args.batch_size) + '_' + str(args.opt) + '_lr_' + str(args.lr)\n",
        "\n",
        "if not os.path.exists(DIR+'/logs/'):\n",
        "    os.makedirs(DIR+'/logs/')\n",
        "if not os.path.exists(DIR+'/result/'):\n",
        "    os.makedirs(DIR+'/result/')\n",
        "if not os.path.exists(DIR+'/workspace/'):\n",
        "    os.makedirs(DIR+'/workspace/')\n",
        "    \n",
        "with open(DIR+'/logs/args.txt', 'w') as f:\n",
        "    f.write(str(args))"
      ],
      "metadata": {
        "id": "x10Zy4yoVwsY"
      },
      "execution_count": 33,
      "outputs": []
    },
    {
      "cell_type": "markdown",
      "source": [
        "Load data: 可更改讀取資料集，'vk/x_traink.csv'，k=3~10"
      ],
      "metadata": {
        "id": "iWtXjIyGWR4V"
      }
    },
    {
      "cell_type": "code",
      "source": [
        "# 更改成想測試的version\n",
        "# 部分version的data需要以ID為依據重新sort\n",
        "x_train = pd.read_csv('v4/x_train4.csv', header=0, low_memory=False)\n",
        "#x_train = x_train.sort_values(by=['ID'])\n",
        "y_train = pd.read_csv('v4/y_train4.csv', header=0, low_memory=False)\n",
        "#y_train = y_train.sort_values(by=['ID'])\n",
        "x_test = pd.read_csv('v4/x_test4.csv', header=0, low_memory=False)\n",
        "#x_test = x_test.sort_values(by=['ID'])\n",
        "y_test = pd.read_csv('v4/y_test4.csv', header=0, low_memory=False)\n",
        "#y_test = y_test.sort_values(by=['ID'])\n",
        "print('x_train.shape= {}, y_train.shape= {}'.format(x_train.shape, y_train.shape))\n",
        "print('x_test.shape= {}, y_test.shape= {}'.format(x_test.shape, y_test.shape))\n",
        "\n",
        "x_train.set_index('ID', inplace=True)\n",
        "y_train.set_index('ID', inplace=True)\n",
        "x_test.set_index('ID', inplace=True)\n",
        "y_test.set_index('ID', inplace=True)\n",
        "\n",
        "print('x_train.shape= {}, y_train.shape= {}'.format(x_train.shape, y_train.shape))\n",
        "print('x_test.shape= {}, y_test.shape= {}'.format(x_test.shape, y_test.shape))"
      ],
      "metadata": {
        "colab": {
          "base_uri": "https://localhost:8080/"
        },
        "id": "6-F6teSFV2N9",
        "outputId": "07320696-f471-4366-b06d-99cc475b4934"
      },
      "execution_count": 34,
      "outputs": [
        {
          "output_type": "stream",
          "name": "stdout",
          "text": [
            "x_train.shape= (33254, 4012), y_train.shape= (33254, 2)\n",
            "x_test.shape= (4263, 4012), y_test.shape= (4263, 2)\n",
            "x_train.shape= (33254, 4011), y_train.shape= (33254, 1)\n",
            "x_test.shape= (4263, 4011), y_test.shape= (4263, 1)\n"
          ]
        }
      ]
    },
    {
      "cell_type": "markdown",
      "source": [
        "Train: \n",
        "\n",
        "三個不同mode，皆為One to One LSTM\n",
        "\n",
        "1. buildOneLayerModel\n",
        "2. buildTwoLayerModel\n",
        "3. buildThreeLayerModel"
      ],
      "metadata": {
        "id": "zJvWRHcwXC02"
      }
    },
    {
      "cell_type": "code",
      "source": [
        "# train\n",
        "if args.opt == 'Adam':\n",
        "    optim = Adam(learning_rate=args.lr, beta_1=0.9, beta_2=0.999, epsilon=1e-5)\n",
        "elif args.opt == 'SGD':\n",
        "    optim = SGD(learning_rate=args.lr)\n",
        "else:\n",
        "    optim = None\n",
        "\n",
        "def buildTrain(x_data, y_data):\n",
        "  x_train, y_train = [], []\n",
        "  for i in range(x_data.shape[0]):\n",
        "    x_train.append(np.array(x_data.iloc[i]))\n",
        "    y_train.append(np.array(y_data.iloc[i][\"乳量\"]))\n",
        "  return np.array(x_train), np.array(y_train)\n",
        "\n",
        "# One layer one to one LSTM\n",
        "def buildOneLayerModel(shape):\n",
        "  model = Sequential()\n",
        "  model.add(LSTM(512, dropout=0.1, recurrent_dropout=0.5, input_length=shape[1], input_dim=shape[2],return_sequences=True))\n",
        "  model.add(Dense(1))   # or use model.add(TimeDistributed(Dense(1)))\n",
        "  model.compile(loss=RMSE, optimizer=optim, metrics=[RMSE])\n",
        "  model.summary()\n",
        "  return model\n",
        "\n",
        "# Two layer one to one LSTM\n",
        "def buildTwoLayerModel(shape):\n",
        "  model = Sequential()\n",
        "  model.add(LSTM(2046, dropout=0.1, recurrent_dropout=0.5, input_length=shape[1], input_dim=shape[2],return_sequences=True))\n",
        "  model.add(LSTM(512, dropout=0.1, recurrent_dropout=0.5, return_sequences=True))\n",
        "  model.add(Dense(1))   # or use model.add(TimeDistributed(Dense(1)))\n",
        "  model.compile(loss=RMSE, optimizer=optim, metrics=[RMSE])\n",
        "  model.summary()\n",
        "  return model\n",
        "\n",
        "# Three layer one to one LSTM\n",
        "def buildThreeLayerModel(shape):\n",
        "  model = Sequential()\n",
        "  model.add(LSTM(2046, dropout=0.1, recurrent_dropout=0.5, input_length=shape[1], input_dim=shape[2],return_sequences=True))\n",
        "  model.add(LSTM(512, dropout=0.1, recurrent_dropout=0.5, return_sequences=True))\n",
        "  model.add(LSTM(128, dropout=0.1, recurrent_dropout=0.5, return_sequences=True))\n",
        "  model.add(Dense(1))   # or use model.add(TimeDistributed(Dense(1)))\n",
        "  model.compile(loss=RMSE, optimizer=optim, metrics=[RMSE])\n",
        "  model.summary()\n",
        "  return model"
      ],
      "metadata": {
        "id": "zU_qZiXQXBxv"
      },
      "execution_count": 35,
      "outputs": []
    },
    {
      "cell_type": "markdown",
      "source": [
        "Start train: 可更改成想使用的Model"
      ],
      "metadata": {
        "id": "PAZX3lryY3dG"
      }
    },
    {
      "cell_type": "code",
      "source": [
        "x_train = x_train.values.reshape((x_train.shape[0], 1, x_train.shape[1]))\n",
        "y_train = y_train.values.reshape((y_train.shape[0], 1, y_train.shape[1]))\n",
        "x_test = x_test.values.reshape((x_test.shape[0], 1, x_test.shape[1]))\n",
        "print(x_train.shape)\n",
        "print(x_test.shape)\n",
        "\n",
        "# from 2 dimmension to 3 dimension\n",
        "y_train = y_train[:,np.newaxis]\n",
        "\n",
        "\n",
        "model = buildOneLayerModel(x_train.shape) ######### 可更改成想使用的Model\n",
        "#model = buildTwoLayerModel(x_train.shape)\n",
        "#model = buildThreeLayerModel(x_train.shape)\n",
        "\n",
        "callback = EarlyStopping(monitor=\"loss\", patience=10, verbose=1, mode=\"auto\")\n",
        "history = model.fit(x_train, y_train, epochs=args.epochs, batch_size=args.batch_size, validation_split=0.005, callbacks=[callback])\n",
        "#model.fit(x_train, y_train, epochs=args.epochs, batch_size=args.batch_size, validation_split=0.05, callbacks=[callback])\n",
        "result = model.predict(x_test)\n",
        "result = model.predict(x_test)\n",
        "print(result.shape)\n",
        "\n",
        "\n",
        "y_test['乳量'] = result[:,0,:]\n",
        "y_test.reset_index(inplace=True)\n",
        "y_test = y_test.sort_values(by='ID')\n",
        "\n",
        "y_test.reset_index(inplace=True)\n",
        "y_test = y_test.drop('index', axis=1)\n",
        "#y_test = y_test.drop('level_0', axis=1)\n",
        "\n",
        "print(y_test.head(n=3))\n",
        "output('result/lstm.csv', y_test)\n",
        "\n",
        "print(history.history.keys())\n",
        "fig=plt.figure(figsize=(15,8))\n",
        "plt.plot(history.history['loss'])\n",
        "plt.title('Training Loss')\n",
        "plt.ylabel('Loss')\n",
        "plt.xlabel('Epoch')\n",
        "plt.show()\n",
        "fig.savefig(DIR+'/result/loss.png',format='png')"
      ],
      "metadata": {
        "colab": {
          "base_uri": "https://localhost:8080/",
          "height": 1000
        },
        "id": "bogSbi28YynP",
        "outputId": "b355bc07-a308-46ac-97f7-18dcb176e229"
      },
      "execution_count": 36,
      "outputs": [
        {
          "output_type": "stream",
          "name": "stdout",
          "text": [
            "(33254, 1, 4011)\n",
            "(4263, 1, 4011)\n",
            "WARNING:tensorflow:Layer lstm_6 will not use cuDNN kernels since it doesn't meet the criteria. It will use a generic GPU kernel as fallback when running on GPU.\n",
            "Model: \"sequential_3\"\n",
            "_________________________________________________________________\n",
            " Layer (type)                Output Shape              Param #   \n",
            "=================================================================\n",
            " lstm_6 (LSTM)               (None, 1, 512)            9265152   \n",
            "                                                                 \n",
            " dense_3 (Dense)             (None, 1, 1)              513       \n",
            "                                                                 \n",
            "=================================================================\n",
            "Total params: 9,265,665\n",
            "Trainable params: 9,265,665\n",
            "Non-trainable params: 0\n",
            "_________________________________________________________________\n",
            "Epoch 1/10\n",
            "259/259 [==============================] - 8s 20ms/step - loss: 8.4808 - RMSE: 8.4757 - val_loss: 3.8825 - val_RMSE: 3.6705\n",
            "Epoch 2/10\n",
            "259/259 [==============================] - 5s 18ms/step - loss: 5.5603 - RMSE: 5.5612 - val_loss: 3.5714 - val_RMSE: 3.4952\n",
            "Epoch 3/10\n",
            "259/259 [==============================] - 5s 18ms/step - loss: 5.1640 - RMSE: 5.1656 - val_loss: 3.7821 - val_RMSE: 3.4823\n",
            "Epoch 4/10\n",
            "259/259 [==============================] - 5s 18ms/step - loss: 4.9002 - RMSE: 4.8992 - val_loss: 3.6274 - val_RMSE: 3.3162\n",
            "Epoch 5/10\n",
            "259/259 [==============================] - 5s 18ms/step - loss: 4.6836 - RMSE: 4.6830 - val_loss: 3.7725 - val_RMSE: 3.3439\n",
            "Epoch 6/10\n",
            "259/259 [==============================] - 5s 18ms/step - loss: 4.4901 - RMSE: 4.4901 - val_loss: 4.1961 - val_RMSE: 3.8794\n",
            "Epoch 7/10\n",
            "259/259 [==============================] - 5s 18ms/step - loss: 4.3298 - RMSE: 4.3308 - val_loss: 3.5545 - val_RMSE: 3.2880\n",
            "Epoch 8/10\n",
            "259/259 [==============================] - 5s 18ms/step - loss: 4.2001 - RMSE: 4.1994 - val_loss: 3.6330 - val_RMSE: 3.4624\n",
            "Epoch 9/10\n",
            "259/259 [==============================] - 5s 18ms/step - loss: 4.0996 - RMSE: 4.1004 - val_loss: 3.8160 - val_RMSE: 3.5633\n",
            "Epoch 10/10\n",
            "259/259 [==============================] - 5s 18ms/step - loss: 3.9923 - RMSE: 3.9931 - val_loss: 3.6570 - val_RMSE: 3.3312\n",
            "(4263, 1, 1)\n",
            "    ID         乳量\n",
            "0  480  17.956121\n",
            "1  742  30.713535\n",
            "2  743  32.757778\n",
            "Success output to result/lstm.csv\n",
            "dict_keys(['loss', 'RMSE', 'val_loss', 'val_RMSE'])\n"
          ]
        },
        {
          "output_type": "display_data",
          "data": {
            "image/png": "[encoded data removed]",
            "text/plain": [
              "<Figure size 1080x576 with 1 Axes>"
            ]
          },
          "metadata": {
            "needs_background": "light"
          }
        }
      ]
    }
  ]
}